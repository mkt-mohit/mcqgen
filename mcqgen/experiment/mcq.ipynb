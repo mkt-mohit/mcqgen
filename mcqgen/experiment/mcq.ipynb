{
 "cells": [
  {
   "cell_type": "code",
   "execution_count": 35,
   "metadata": {},
   "outputs": [],
   "source": [
    "import os,json\n"
   ]
  },
  {
   "cell_type": "code",
   "execution_count": 36,
   "metadata": {},
   "outputs": [],
   "source": [
    "import openai"
   ]
  },
  {
   "cell_type": "code",
   "execution_count": 37,
   "metadata": {},
   "outputs": [],
   "source": [
    "import pandas as pd"
   ]
  },
  {
   "cell_type": "code",
   "execution_count": 38,
   "metadata": {},
   "outputs": [],
   "source": [
    "import traceback"
   ]
  },
  {
   "cell_type": "code",
   "execution_count": 39,
   "metadata": {},
   "outputs": [
    {
     "name": "stdout",
     "output_type": "stream",
     "text": [
      "sk-proj-mTW4BuMRL5tI9MU7gRjnT3BlbkFJ6KfdCZ92gnaGaLSdOV2Y\n"
     ]
    },
    {
     "data": {
      "text/plain": [
       "True"
      ]
     },
     "execution_count": 39,
     "metadata": {},
     "output_type": "execute_result"
    }
   ],
   "source": [
    "from langchain.chat_models import ChatOpenAI\n",
    "KEY=os.getenv(\"OPENAI_API_KEY\")\n",
    "print(KEY)\n",
    "from dotenv import load_dotenv\n",
    "load_dotenv()\n"
   ]
  },
  {
   "cell_type": "code",
   "execution_count": 40,
   "metadata": {},
   "outputs": [
    {
     "name": "stdout",
     "output_type": "stream",
     "text": [
      "mahadev\n"
     ]
    }
   ],
   "source": [
    "testenv=os.getenv(\"raftaar\")\n",
    "print(testenv)"
   ]
  },
  {
   "cell_type": "code",
   "execution_count": 41,
   "metadata": {},
   "outputs": [],
   "source": [
    "llm=ChatOpenAI(api_key=KEY,model=\"gpt-3.5-turbo\",temperature=0.5)\n"
   ]
  },
  {
   "cell_type": "code",
   "execution_count": 42,
   "metadata": {},
   "outputs": [
    {
     "name": "stdout",
     "output_type": "stream",
     "text": [
      "client=<openai.resources.chat.completions.Completions object at 0x0000011A29B38510> async_client=<openai.resources.chat.completions.AsyncCompletions object at 0x0000011A29BA2310> temperature=0.5 openai_api_key='sk-proj-mTW4BuMRL5tI9MU7gRjnT3BlbkFJ6KfdCZ92gnaGaLSdOV2Y' openai_proxy=''\n"
     ]
    }
   ],
   "source": [
    "print(llm)"
   ]
  },
  {
   "cell_type": "code",
   "execution_count": 43,
   "metadata": {},
   "outputs": [],
   "source": [
    "from langchain.llms import openai\n",
    "from langchain.prompts import PromptTemplate\n",
    "from langchain.chains import LLMChain\n",
    "from langchain.chains import SequentialChain\n",
    "from langchain.callbacks import get_openai_callback\n",
    "import PyPDF2"
   ]
  },
  {
   "cell_type": "code",
   "execution_count": 45,
   "metadata": {},
   "outputs": [],
   "source": [
    "RESPONSE_JSON = {\n",
    "    \"1\": {\n",
    "        \"mcq\": \"multiple choice question\",\n",
    "        \"options\": {\n",
    "            \"a\": \"choice here\",\n",
    "            \"b\": \"choice here\",\n",
    "            \"c\": \"choice here\",\n",
    "            \"d\": \"chocie here\",\n",
    "        },\n",
    "        \"correct\": \"correct answer\",\n",
    "},\n",
    "    \"2\": {\n",
    "        \"mcq\": \"multiple choice question\",\n",
    "        \"options\": {\n",
    "            \"a\": \"choice here\",\n",
    "            \"b\": \"choice here\",\n",
    "            \"c\": \"choice here\",\n",
    "            \"d\": \"chocie here\",\n",
    "        },\n",
    "        \"correct\": \"correct answer\",\n",
    "},\n",
    "    \"3\": {\n",
    "        \"mcq\": \"multiple choice question\",\n",
    "        \"options\": {\n",
    "            \"a\": \"choice here\",\n",
    "            \"b\": \"choice here\",\n",
    "            \"c\": \"choice here\",\n",
    "            \"d\": \"chocie here\",\n",
    "        },\n",
    "        \"correct\": \"correct answer\",\n",
    "},\n",
    "    \"4\": {\n",
    "        \"mcq\": \"multiple choice question\",\n",
    "        \"options\": {\n",
    "            \"a\": \"choice here\",\n",
    "            \"b\": \"choice here\",\n",
    "            \"c\": \"choice here\",\n",
    "            \"d\": \"chocie here\",\n",
    "        },\n",
    "        \"correct\": \"correct answer\",\n",
    "},\n",
    "}"
   ]
  },
  {
   "cell_type": "code",
   "execution_count": 46,
   "metadata": {},
   "outputs": [],
   "source": [
    "TEMPLATE=\"\"\"\n",
    "Text={text}\n",
    "Your are an expert MCQ maker. Given the above text, it is your job to \\\n",
    "create quiz of {number} multiple choice questions for  {subject} students in {tone} tone.\n",
    "Make sure the questions are not repeated and check all questions to be confirming the text as well.\n",
    "Make sure to format your response like RESPONSE_JSON and use it as guide. \\\n",
    "Ensure to make {number} MCQs\n",
    "### RESPONSE_JSON\n",
    "{response_json}\n",
    "\"\"\""
   ]
  },
  {
   "cell_type": "code",
   "execution_count": 47,
   "metadata": {},
   "outputs": [],
   "source": [
    "quiz_generation_prompt= PromptTemplate(\n",
    "\n",
    "input_variables=[\"text\",\"number\",\"subject\",\"tone\",\"response_json\"],\n",
    "template=TEMPLATE\n",
    "\n",
    ")"
   ]
  },
  {
   "cell_type": "code",
   "execution_count": 48,
   "metadata": {},
   "outputs": [],
   "source": [
    "quiz_chain=LLMChain(llm=llm,prompt=quiz_generation_prompt,output_key=\"quiz\",verbose=True)"
   ]
  },
  {
   "cell_type": "code",
   "execution_count": null,
   "metadata": {},
   "outputs": [],
   "source": []
  },
  {
   "cell_type": "code",
   "execution_count": 49,
   "metadata": {},
   "outputs": [],
   "source": [
    "TEMPLATE2=\"\"\"\n",
    "You are an expert english grammarian and writer. Given a MUltiple choice quiz for {subject} students.\\\n",
    "you need to evaluate the complexity of the question and give a complete analysis of the quiz. Only use at max 50 words for xomplexity.\\\n",
    "if the quiz is not as per woth the cognitive and anlyatical abilities of the stidents,\\\n",
    "update the quiz questions whoch needs to be changed and change the tone such that it perfectly fits the students abilities\n",
    "Quiz_MCQS:\n",
    "{quiz}\n",
    "\n",
    "check from an expert English Writer of the above quiz.\n",
    "\"\"\""
   ]
  },
  {
   "cell_type": "code",
   "execution_count": 51,
   "metadata": {},
   "outputs": [],
   "source": [
    "quiz_evalutation_prompt=PromptTemplate(input_variables=[\"subject\",\"quiz\"],template=TEMPLATE2)"
   ]
  },
  {
   "cell_type": "code",
   "execution_count": 53,
   "metadata": {},
   "outputs": [],
   "source": [
    "review_chain=LLMChain(llm=llm,prompt=quiz_evalutation_prompt,output_key=\"review\",verbose=True)"
   ]
  },
  {
   "cell_type": "code",
   "execution_count": 69,
   "metadata": {},
   "outputs": [],
   "source": [
    "generate_evaluate_chain=SequentialChain(chains=[quiz_chain,review_chain],input_variables=[\"text\",\"number\",\"subject\",\"tone\",\"response_json\"],output_variables=[\"quiz\",\"review\"],verbose=True,)"
   ]
  },
  {
   "cell_type": "code",
   "execution_count": 70,
   "metadata": {},
   "outputs": [],
   "source": [
    "file_path=r\"C:\\Users\\kumarm\\mcqgen\\mcqgen\\data.txt\""
   ]
  },
  {
   "cell_type": "code",
   "execution_count": 71,
   "metadata": {},
   "outputs": [
    {
     "data": {
      "text/plain": [
       "'C:\\\\Users\\\\kumarm\\\\mcqgen\\\\mcqgen\\\\data.txt'"
      ]
     },
     "execution_count": 71,
     "metadata": {},
     "output_type": "execute_result"
    }
   ],
   "source": [
    "file_path"
   ]
  },
  {
   "cell_type": "code",
   "execution_count": 72,
   "metadata": {},
   "outputs": [],
   "source": [
    "with open(file_path,'r') as file:\n",
    "    TEXT = file.read()"
   ]
  },
  {
   "cell_type": "code",
   "execution_count": 73,
   "metadata": {},
   "outputs": [
    {
     "data": {
      "text/plain": [
       "\"The Indian Premier League (IPL), also known as the TATA IPL for sponsorship reasons, is a men's Twenty20 (T20) cricket league held annually in India. Founded by the BCCI (the Board of Control for Cricket in India) in 2007, the league features ten city-based franchise teams.[3][4] The IPL usually takes place during the summer, between March and May each year. It has an exclusive window in the ICC Future Tours Programme, resulting in fewer international cricket tours occurring during the IPL seasons.[5]\\n\\nThe IPL is by far the most popular cricket league in the world; in 2014, it ranked sixth in average attendance among all sports leagues.[6] In 2010, the IPL became the first sporting event to be broadcast live on YouTube.[7][8] Inspired by the success of the IPL, other Indian sports leagues have been established.[a][11][12][13] In 2022, the league's brand value was estimated at â‚¹90,038 crore (US$11 billion).[14] According to the BCCI, the 2015 IPL season contributed â‚¹1,150 crore (US$140 million) to India's GDP.[15] In December 2022, the IPL achieved a valuation of US$10.9 billion, becoming a decacorn and registering a 75% growth in dollar terms since 2020 when it was valued at $6.2 billion, according to a report by the consulting firm D and P Advisory.[16] Its 2023 final became the most streamed live event on the internet, with 32 million viewers.[17]\\n\\nIn 2023, the league sold its media rights for the next 4 Seasons for US$6.4 billion to Viacom18 and Star Sports,[18] meaning each IPL match was valued at $13.4 million.[19] As of 2023, there have been sixteen seasons of the tournament. The current champions are the Chennai Super Kings, who won the 2023 season after defeating the Gujarat Titans in the final.[20]\""
      ]
     },
     "execution_count": 73,
     "metadata": {},
     "output_type": "execute_result"
    }
   ],
   "source": [
    "TEXT"
   ]
  },
  {
   "cell_type": "code",
   "execution_count": 74,
   "metadata": {},
   "outputs": [
    {
     "data": {
      "text/plain": [
       "'{\"1\": {\"mcq\": \"multiple choice question\", \"options\": {\"a\": \"choice here\", \"b\": \"choice here\", \"c\": \"choice here\", \"d\": \"chocie here\"}, \"correct\": \"correct answer\"}, \"2\": {\"mcq\": \"multiple choice question\", \"options\": {\"a\": \"choice here\", \"b\": \"choice here\", \"c\": \"choice here\", \"d\": \"chocie here\"}, \"correct\": \"correct answer\"}, \"3\": {\"mcq\": \"multiple choice question\", \"options\": {\"a\": \"choice here\", \"b\": \"choice here\", \"c\": \"choice here\", \"d\": \"chocie here\"}, \"correct\": \"correct answer\"}, \"4\": {\"mcq\": \"multiple choice question\", \"options\": {\"a\": \"choice here\", \"b\": \"choice here\", \"c\": \"choice here\", \"d\": \"chocie here\"}, \"correct\": \"correct answer\"}}'"
      ]
     },
     "execution_count": 74,
     "metadata": {},
     "output_type": "execute_result"
    }
   ],
   "source": [
    "json.dumps(RESPONSE_JSON)"
   ]
  },
  {
   "cell_type": "code",
   "execution_count": 75,
   "metadata": {},
   "outputs": [],
   "source": [
    "NUMBER=3\n",
    "SUBJECT=\"IPL Cricket\"\n",
    "TONE=\"simple\""
   ]
  },
  {
   "cell_type": "code",
   "execution_count": 76,
   "metadata": {},
   "outputs": [
    {
     "name": "stdout",
     "output_type": "stream",
     "text": [
      "\n",
      "\n",
      "\u001b[1m> Entering new SequentialChain chain...\u001b[0m\n",
      "\n",
      "\n",
      "\u001b[1m> Entering new LLMChain chain...\u001b[0m\n",
      "Prompt after formatting:\n",
      "\u001b[32;1m\u001b[1;3m\n",
      "Text=The Indian Premier League (IPL), also known as the TATA IPL for sponsorship reasons, is a men's Twenty20 (T20) cricket league held annually in India. Founded by the BCCI (the Board of Control for Cricket in India) in 2007, the league features ten city-based franchise teams.[3][4] The IPL usually takes place during the summer, between March and May each year. It has an exclusive window in the ICC Future Tours Programme, resulting in fewer international cricket tours occurring during the IPL seasons.[5]\n",
      "\n",
      "The IPL is by far the most popular cricket league in the world; in 2014, it ranked sixth in average attendance among all sports leagues.[6] In 2010, the IPL became the first sporting event to be broadcast live on YouTube.[7][8] Inspired by the success of the IPL, other Indian sports leagues have been established.[a][11][12][13] In 2022, the league's brand value was estimated at â‚¹90,038 crore (US$11 billion).[14] According to the BCCI, the 2015 IPL season contributed â‚¹1,150 crore (US$140 million) to India's GDP.[15] In December 2022, the IPL achieved a valuation of US$10.9 billion, becoming a decacorn and registering a 75% growth in dollar terms since 2020 when it was valued at $6.2 billion, according to a report by the consulting firm D and P Advisory.[16] Its 2023 final became the most streamed live event on the internet, with 32 million viewers.[17]\n",
      "\n",
      "In 2023, the league sold its media rights for the next 4 Seasons for US$6.4 billion to Viacom18 and Star Sports,[18] meaning each IPL match was valued at $13.4 million.[19] As of 2023, there have been sixteen seasons of the tournament. The current champions are the Chennai Super Kings, who won the 2023 season after defeating the Gujarat Titans in the final.[20]\n",
      "Your are an expert MCQ maker. Given the above text, it is your job to create quiz of 3 multiple choice questions for  IPL Cricket students in simple tone.\n",
      "Make sure the questions are not repeated and check all questions to be confirming the text as well.\n",
      "Make sure to format your response like RESPONSE_JSON and use it as guide. Ensure to make 3 MCQs\n",
      "### RESPONSE_JSON\n",
      "{\"1\": {\"mcq\": \"multiple choice question\", \"options\": {\"a\": \"choice here\", \"b\": \"choice here\", \"c\": \"choice here\", \"d\": \"chocie here\"}, \"correct\": \"correct answer\"}, \"2\": {\"mcq\": \"multiple choice question\", \"options\": {\"a\": \"choice here\", \"b\": \"choice here\", \"c\": \"choice here\", \"d\": \"chocie here\"}, \"correct\": \"correct answer\"}, \"3\": {\"mcq\": \"multiple choice question\", \"options\": {\"a\": \"choice here\", \"b\": \"choice here\", \"c\": \"choice here\", \"d\": \"chocie here\"}, \"correct\": \"correct answer\"}, \"4\": {\"mcq\": \"multiple choice question\", \"options\": {\"a\": \"choice here\", \"b\": \"choice here\", \"c\": \"choice here\", \"d\": \"chocie here\"}, \"correct\": \"correct answer\"}}\n",
      "\u001b[0m\n",
      "\n",
      "\u001b[1m> Finished chain.\u001b[0m\n",
      "\n",
      "\n",
      "\u001b[1m> Entering new LLMChain chain...\u001b[0m\n",
      "Prompt after formatting:\n",
      "\u001b[32;1m\u001b[1;3m\n",
      "You are an expert english grammarian and writer. Given a MUltiple choice quiz for IPL Cricket students.you need to evaluate the complexity of the question and give a complete analysis of the quiz. Only use at max 50 words for xomplexity.if the quiz is not as per woth the cognitive and anlyatical abilities of the stidents,update the quiz questions whoch needs to be changed and change the tone such that it perfectly fits the students abilities\n",
      "Quiz_MCQS:\n",
      "{\"1\": {\"mcq\": \"Which board founded the Indian Premier League in 2007?\", \"options\": {\"a\": \"ICC\", \"b\": \"BCCI\", \"c\": \"IPL\", \"d\": \"TATA\"}, \"correct\": \"b\"}, \"2\": {\"mcq\": \"In which year did the IPL become the first sporting event to be broadcast live on YouTube?\", \"options\": {\"a\": \"2010\", \"b\": \"2014\", \"c\": \"2022\", \"d\": \"2023\"}, \"correct\": \"a\"}, \"3\": {\"mcq\": \"Who are the current champions of the IPL as of 2023?\", \"options\": {\"a\": \"Mumbai Indians\", \"b\": \"Kolkata Knight Riders\", \"c\": \"Chennai Super Kings\", \"d\": \"Royal Challengers Bangalore\"}, \"correct\": \"c\"}}\n",
      "\n",
      "check from an expert English Writer of the above quiz.\n",
      "\u001b[0m\n",
      "\n",
      "\u001b[1m> Finished chain.\u001b[0m\n",
      "\n",
      "\u001b[1m> Finished chain.\u001b[0m\n"
     ]
    }
   ],
   "source": [
    "with get_openai_callback() as cb:\n",
    "    response=generate_evaluate_chain(\n",
    "        {\n",
    "            \"text\": TEXT,\n",
    "            \"number\": NUMBER,\n",
    "            \"subject\": SUBJECT,\n",
    "            \"tone\": TONE,\n",
    "            \"response_json\": json.dumps(RESPONSE_JSON)\n",
    "        }\n",
    "\n",
    "    )"
   ]
  },
  {
   "cell_type": "code",
   "execution_count": 77,
   "metadata": {},
   "outputs": [
    {
     "name": "stdout",
     "output_type": "stream",
     "text": [
      "Total Tokens:1277\n",
      "Prompt token:1034\n",
      "Completion Tokens:243\n",
      "Total cost:0.0020369999999999997\n"
     ]
    }
   ],
   "source": [
    "print(f\"Total Tokens:{cb.total_tokens}\")\n",
    "print(f\"Prompt token:{cb.prompt_tokens}\")\n",
    "print(f\"Completion Tokens:{cb.completion_tokens}\")\n",
    "print(f\"Total cost:{cb.total_cost}\")"
   ]
  },
  {
   "cell_type": "code",
   "execution_count": 78,
   "metadata": {},
   "outputs": [
    {
     "data": {
      "text/plain": [
       "{'text': \"The Indian Premier League (IPL), also known as the TATA IPL for sponsorship reasons, is a men's Twenty20 (T20) cricket league held annually in India. Founded by the BCCI (the Board of Control for Cricket in India) in 2007, the league features ten city-based franchise teams.[3][4] The IPL usually takes place during the summer, between March and May each year. It has an exclusive window in the ICC Future Tours Programme, resulting in fewer international cricket tours occurring during the IPL seasons.[5]\\n\\nThe IPL is by far the most popular cricket league in the world; in 2014, it ranked sixth in average attendance among all sports leagues.[6] In 2010, the IPL became the first sporting event to be broadcast live on YouTube.[7][8] Inspired by the success of the IPL, other Indian sports leagues have been established.[a][11][12][13] In 2022, the league's brand value was estimated at â‚¹90,038 crore (US$11 billion).[14] According to the BCCI, the 2015 IPL season contributed â‚¹1,150 crore (US$140 million) to India's GDP.[15] In December 2022, the IPL achieved a valuation of US$10.9 billion, becoming a decacorn and registering a 75% growth in dollar terms since 2020 when it was valued at $6.2 billion, according to a report by the consulting firm D and P Advisory.[16] Its 2023 final became the most streamed live event on the internet, with 32 million viewers.[17]\\n\\nIn 2023, the league sold its media rights for the next 4 Seasons for US$6.4 billion to Viacom18 and Star Sports,[18] meaning each IPL match was valued at $13.4 million.[19] As of 2023, there have been sixteen seasons of the tournament. The current champions are the Chennai Super Kings, who won the 2023 season after defeating the Gujarat Titans in the final.[20]\",\n",
       " 'number': 3,\n",
       " 'subject': 'IPL Cricket',\n",
       " 'tone': 'simple',\n",
       " 'response_json': '{\"1\": {\"mcq\": \"multiple choice question\", \"options\": {\"a\": \"choice here\", \"b\": \"choice here\", \"c\": \"choice here\", \"d\": \"chocie here\"}, \"correct\": \"correct answer\"}, \"2\": {\"mcq\": \"multiple choice question\", \"options\": {\"a\": \"choice here\", \"b\": \"choice here\", \"c\": \"choice here\", \"d\": \"chocie here\"}, \"correct\": \"correct answer\"}, \"3\": {\"mcq\": \"multiple choice question\", \"options\": {\"a\": \"choice here\", \"b\": \"choice here\", \"c\": \"choice here\", \"d\": \"chocie here\"}, \"correct\": \"correct answer\"}, \"4\": {\"mcq\": \"multiple choice question\", \"options\": {\"a\": \"choice here\", \"b\": \"choice here\", \"c\": \"choice here\", \"d\": \"chocie here\"}, \"correct\": \"correct answer\"}}',\n",
       " 'quiz': '{\"1\": {\"mcq\": \"Which board founded the Indian Premier League in 2007?\", \"options\": {\"a\": \"ICC\", \"b\": \"BCCI\", \"c\": \"IPL\", \"d\": \"TATA\"}, \"correct\": \"b\"}, \"2\": {\"mcq\": \"In which year did the IPL become the first sporting event to be broadcast live on YouTube?\", \"options\": {\"a\": \"2010\", \"b\": \"2014\", \"c\": \"2022\", \"d\": \"2023\"}, \"correct\": \"a\"}, \"3\": {\"mcq\": \"Who are the current champions of the IPL as of 2023?\", \"options\": {\"a\": \"Mumbai Indians\", \"b\": \"Kolkata Knight Riders\", \"c\": \"Chennai Super Kings\", \"d\": \"Royal Challengers Bangalore\"}, \"correct\": \"c\"}}',\n",
       " 'review': 'The quiz on IPL Cricket is moderately complex, suitable for students familiar with the league. Question 2 could be simplified for better understanding. Revised: \"When was the IPL first broadcast live on YouTube?\" Options: 2010, 2014, 2022, 2023.'}"
      ]
     },
     "execution_count": 78,
     "metadata": {},
     "output_type": "execute_result"
    }
   ],
   "source": [
    "response"
   ]
  },
  {
   "cell_type": "code",
   "execution_count": 81,
   "metadata": {},
   "outputs": [],
   "source": [
    "quiz=response.get(\"quiz\")"
   ]
  },
  {
   "cell_type": "code",
   "execution_count": 82,
   "metadata": {},
   "outputs": [
    {
     "data": {
      "text/plain": [
       "{'1': {'mcq': 'Which board founded the Indian Premier League in 2007?',\n",
       "  'options': {'a': 'ICC', 'b': 'BCCI', 'c': 'IPL', 'd': 'TATA'},\n",
       "  'correct': 'b'},\n",
       " '2': {'mcq': 'In which year did the IPL become the first sporting event to be broadcast live on YouTube?',\n",
       "  'options': {'a': '2010', 'b': '2014', 'c': '2022', 'd': '2023'},\n",
       "  'correct': 'a'},\n",
       " '3': {'mcq': 'Who are the current champions of the IPL as of 2023?',\n",
       "  'options': {'a': 'Mumbai Indians',\n",
       "   'b': 'Kolkata Knight Riders',\n",
       "   'c': 'Chennai Super Kings',\n",
       "   'd': 'Royal Challengers Bangalore'},\n",
       "  'correct': 'c'}}"
      ]
     },
     "execution_count": 82,
     "metadata": {},
     "output_type": "execute_result"
    }
   ],
   "source": [
    "json.loads(quiz)"
   ]
  },
  {
   "cell_type": "code",
   "execution_count": null,
   "metadata": {},
   "outputs": [],
   "source": [
    "quiz_table_data=[]\n",
    "for key, value in quiz.items():\n",
    "    mcq = value[\"mcq\"]\n",
    "    options = \" | \".join(\n",
    "        [\n",
    "            f\"{option}: {option_value}\"\n",
    "            for option , option_value in value[\"options\"].items()\n",
    "        ]\n",
    "    )\n",
    "    correct = value[\"correct\"]\n",
    "    quiz_table_data.append({\"MCQ\": mcq, \"Choices\": options, \"Correct\": correct})\n",
    "    "
   ]
  }
 ],
 "metadata": {
  "kernelspec": {
   "display_name": "mcqgen",
   "language": "python",
   "name": "python3"
  },
  "language_info": {
   "codemirror_mode": {
    "name": "ipython",
    "version": 3
   },
   "file_extension": ".py",
   "mimetype": "text/x-python",
   "name": "python",
   "nbconvert_exporter": "python",
   "pygments_lexer": "ipython3",
   "version": "3.11.8"
  }
 },
 "nbformat": 4,
 "nbformat_minor": 2
}
